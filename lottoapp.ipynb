{
 "cells": [
  {
   "cell_type": "code",
   "execution_count": 15,
   "metadata": {},
   "outputs": [],
   "source": [
    "import math\n",
    "import numpy as np\n",
    "import pandas as pd\n",
    "import matplotlib.pyplot as plt\n",
    "\n",
    "from sklearn.preprocessing import MinMaxScaler\n",
    "\n",
    "df = pd.read_csv('lotto_after_refining.csv')\n",
    "\n",
    "data = df.filter([\"첫번째\", \"두번째\", \"세번째\", \"네번째\", \"다섯번째\", \"여섯번째\", \"보너스\"])"
   ]
  },
  {
   "cell_type": "code",
   "execution_count": 19,
   "metadata": {},
   "outputs": [
    {
     "ename": "SystemExit",
     "evalue": "0",
     "output_type": "error",
     "traceback": [
      "An exception has occurred, use %tb to see the full traceback.\n",
      "\u001b[1;31mSystemExit\u001b[0m\u001b[1;31m:\u001b[0m 0\n"
     ]
    },
    {
     "name": "stderr",
     "output_type": "stream",
     "text": [
      "c:\\Cookiebake\\envs\\Walter\\lib\\site-packages\\IPython\\core\\interactiveshell.py:3585: UserWarning: To exit: use 'exit', 'quit', or Ctrl-D.\n",
      "  warn(\"To exit: use 'exit', 'quit', or Ctrl-D.\", stacklevel=1)\n"
     ]
    }
   ],
   "source": [
    "import sys\n",
    "import random\n",
    "from PyQt5.QtWidgets import QApplication, QWidget, QPushButton, QVBoxLayout, QLabel\n",
    "\n",
    "# 기계에게 학습시키지 않고 랜덤으로 숫자를 뱉게 함 (어차피 복권번호는 독립시행이므로)\n",
    "# 필요한 것: 생성되는 번호를 저장할 수 있는 기능 - csv 파일과 비교하여 몇 개가 맞았는지 판단\n",
    "\n",
    "# 번호 생성 함수를 포함하는 클래스 \n",
    "class LottoApp(QWidget):\n",
    "    def __init__(self):\n",
    "        super().__init__()\n",
    "        self.initUI()\n",
    "\n",
    "    def initUI(self):\n",
    "        self.setWindowTitle('Lotto Number Generator')\n",
    "        self.setGeometry(300, 300, 300, 200)\n",
    "\n",
    "        # 버튼 생성\n",
    "        self.btn = QPushButton('Generate Lotto Numbers', self)\n",
    "        self.btn.clicked.connect(self.generateNumbers)\n",
    "\n",
    "        # 로또 번호를 표시할 레이블 생성\n",
    "        self.lottoLabel = QLabel('', self)\n",
    "\n",
    "        # 레이아웃 설정\n",
    "        layout = QVBoxLayout()\n",
    "        layout.addWidget(self.btn)\n",
    "        layout.addWidget(self.lottoLabel)\n",
    "\n",
    "        self.setLayout(layout)\n",
    "\n",
    "    def generateNumbers(self):\n",
    "        numbers = random.sample(range(1, 46), 6)  # 1부터 45까지의 숫자 중 6개를 무작위로 선택\n",
    "        numbers.sort()  # 선택된 숫자 정렬\n",
    "        self.lottoLabel.setText('Lotto Numbers: ' + ', '.join(map(str, numbers)))  # 레이블에 표시\n",
    "\n",
    "# 메인 함수 실행\n",
    "def main():\n",
    "    app = QApplication(sys.argv)\n",
    "    ex = LottoApp()\n",
    "    ex.show()\n",
    "    sys.exit(app.exec_())\n",
    "\n",
    "if __name__ == '__main__':\n",
    "    main()"
   ]
  },
  {
   "cell_type": "code",
   "execution_count": null,
   "metadata": {},
   "outputs": [],
   "source": []
  }
 ],
 "metadata": {
  "kernelspec": {
   "display_name": "Walter",
   "language": "python",
   "name": "python3"
  },
  "language_info": {
   "codemirror_mode": {
    "name": "ipython",
    "version": 3
   },
   "file_extension": ".py",
   "mimetype": "text/x-python",
   "name": "python",
   "nbconvert_exporter": "python",
   "pygments_lexer": "ipython3",
   "version": "3.10.13"
  }
 },
 "nbformat": 4,
 "nbformat_minor": 2
}
