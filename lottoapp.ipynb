{
 "cells": [
  {
   "cell_type": "code",
   "execution_count": 2,
   "metadata": {},
   "outputs": [],
   "source": [
    "import math\n",
    "import numpy as np\n",
    "import pandas as pd\n",
    "import matplotlib.pyplot as plt\n",
    "\n",
    "from sklearn.preprocessing import MinMaxScaler\n",
    "\n",
    "df = pd.read_csv('lotto_after_refining.csv')\n",
    "\n",
    "data = df.filter([\"첫번째\", \"두번째\", \"세번째\", \"네번째\", \"다섯번째\", \"여섯번째\", \"보너스\"])"
   ]
  },
  {
   "cell_type": "code",
   "execution_count": 8,
   "metadata": {},
   "outputs": [
    {
     "name": "stdout",
     "output_type": "stream",
     "text": [
      "[[3, 18, 20, 21, 26, 35, 37]]\n",
      "[[3, 18, 20, 21, 26, 35, 37], [6, 17, 26, 30, 37, 40, 43]]\n",
      "[[3, 18, 20, 21, 26, 35, 37], [6, 17, 26, 30, 37, 40, 43], [17, 24, 38, 39, 40, 43, 45]]\n",
      "[[3, 18, 20, 21, 26, 35, 37], [6, 17, 26, 30, 37, 40, 43], [17, 24, 38, 39, 40, 43, 45], [9, 15, 16, 29, 31, 33, 35]]\n"
     ]
    },
    {
     "ename": "SystemExit",
     "evalue": "0",
     "output_type": "error",
     "traceback": [
      "An exception has occurred, use %tb to see the full traceback.\n",
      "\u001b[1;31mSystemExit\u001b[0m\u001b[1;31m:\u001b[0m 0\n"
     ]
    }
   ],
   "source": [
    "import sys\n",
    "import random\n",
    "import warnings\n",
    "from PyQt5.QtWidgets import QApplication, QWidget, QPushButton, QVBoxLayout, QLabel\n",
    "\n",
    "import math\n",
    "import numpy as np\n",
    "import pandas as pd\n",
    "import matplotlib.pyplot as plt\n",
    "\n",
    "from sklearn.preprocessing import MinMaxScaler\n",
    "\n",
    "df = pd.read_csv('lotto_after_refining.csv')\n",
    "\n",
    "data = df.filter([\"첫번째\", \"두번째\", \"세번째\", \"네번째\", \"다섯번째\", \"여섯번째\", \"보너스\"])\n",
    "\n",
    "# Suppress the specific UserWarning from IPython\n",
    "warnings.filterwarnings(\"ignore\", message=\"To exit: use 'exit', 'quit', or Ctrl-D.\")\n",
    "\n",
    "# 기계에게 학습시키지 않고 랜덤으로 숫자를 뱉게 함 (어차피 복권번호는 독립시행이므로)\n",
    "# 필요한 것: 생성되는 번호를 저장할 수 있는 기능 - csv 파일과 비교하여 몇 개가 맞았는지 판단\n",
    "\n",
    "# 번호 생성 함수를 포함하는 클래스 \n",
    "class LottoApp(QWidget):\n",
    "    def __init__(self):\n",
    "        super().__init__()\n",
    "        self.generated_numbers_list = []\n",
    "        self.initUI()\n",
    "        \n",
    "    # UI 초기화 함수    \n",
    "    def initUI(self):\n",
    "        self.setWindowTitle('Lotto Number Generator')\n",
    "        self.setGeometry(300, 300, 300, 200)\n",
    "\n",
    "        # 버튼 생성\n",
    "        self.btn = QPushButton('Generate Lotto Numbers', self)\n",
    "        self.btn.clicked.connect(self.generateNumbers)\n",
    "\n",
    "        # 로또 번호를 표시할 레이블 생성\n",
    "        self.lottoLabel = QLabel('', self)\n",
    "\n",
    "        # 레이아웃 설정\n",
    "        layout = QVBoxLayout()\n",
    "        layout.addWidget(self.btn)\n",
    "        layout.addWidget(self.lottoLabel)\n",
    "\n",
    "        self.setLayout(layout)\n",
    "\n",
    "    # 임의의 로또 번호를 생성하는 함수\n",
    "    def generateNumbers(self):\n",
    "        numbers = random.sample(range(1, 46), 7)  # 1부터 45까지의 숫자 중 6개를 무작위로 선택 (보너스 하나를 포함)\n",
    "        numbers.sort()  # 선택된 숫자 정렬\n",
    "        \n",
    "        self.lottoLabel.setText('Lotto Numbers: ' + ', '.join(map(str, numbers)))  # 레이블에 표시\n",
    "        self.generated_numbers_list.append(numbers)  # 생성된 파일들을 리스트에 더함 \n",
    "        print(self.generated_numbers_list) # 리스트를 출력\n",
    "        df = pd.DataFrame(self.generated_numbers_list, columns=[\"첫번째\", \"두번째\", \"세번째\", \"네번째\", \"다섯번째\", \"여섯번째\", \"보너스\"])\n",
    "        df.to_csv('generated_lotto_numbers.csv', mode='a', header=False, index=False)\n",
    "    \n",
    "    #  compare_csv(생성된 파일을 csv 파일과 비교하여 몇 개가 맞았는지 퍼센트로 출력하는 함\n",
    "# 메인 함수 실행\n",
    "def main():\n",
    "    app = QApplication(sys.argv)\n",
    "    exe = LottoApp()\n",
    "    exe.show()\n",
    "    sys.exit(app.exec_())\n",
    "    \n",
    "if __name__ == '__main__':\n",
    "    main()\n"
   ]
  }
 ],
 "metadata": {
  "kernelspec": {
   "display_name": "Walter",
   "language": "python",
   "name": "python3"
  },
  "language_info": {
   "codemirror_mode": {
    "name": "ipython",
    "version": 3
   },
   "file_extension": ".py",
   "mimetype": "text/x-python",
   "name": "python",
   "nbconvert_exporter": "python",
   "pygments_lexer": "ipython3",
   "version": "3.10.13"
  }
 },
 "nbformat": 4,
 "nbformat_minor": 2
}
